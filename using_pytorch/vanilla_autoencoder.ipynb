{
 "cells": [
  {
   "cell_type": "markdown",
   "id": "ed366cdb-9fc3-48c6-8ddd-cbf03d6a2bb1",
   "metadata": {},
   "source": [
    "# __Vanilla Autoencoder with PyTorch__"
   ]
  },
  {
   "cell_type": "code",
   "execution_count": 1,
   "id": "ecfb121e-0b96-4833-99a8-fdbca40ae089",
   "metadata": {},
   "outputs": [],
   "source": [
    "# For auto saving and applying changes to modified files.\n",
    "%load_ext autoreload\n",
    "%autoreload 2"
   ]
  },
  {
   "cell_type": "code",
   "execution_count": 9,
   "id": "2aa990f5-c77b-4144-8b5d-591899c611ee",
   "metadata": {},
   "outputs": [],
   "source": [
    "# Prepare Packages\n",
    "import torch\n",
    "import numpy as np\n",
    "import matplotlib.pyplot as plt\n",
    "from torchvision import datasets\n",
    "from torch.utils.data import sampler\n",
    "from torch.utils.data import DataLoader\n",
    "import torchvision.transforms as T\n",
    "from torchvision.transforms import ToTensor\n",
    "from utilities.utils import *"
   ]
  },
  {
   "cell_type": "code",
   "execution_count": 10,
   "id": "e3296f67-19fd-433b-babb-90ce862feaf7",
   "metadata": {},
   "outputs": [],
   "source": [
    "# Prepare dataset\n",
    "'''\n",
    "    TRAIN_MNIST & TEST_MNIST are objects of type (or instances of) \n",
    "    `torchvision.datasets.MNIST`.\n",
    "    \n",
    "    Running `print(TRAIN_MNIST)` will print out all the information\n",
    "    about the dataset: Number of datapoints, root location, etc.\n",
    "    \n",
    "    TRAIN_MNIST[i] is a tuple (xi, yi) where i is the ith\n",
    "    datapoint, xi is a tensor, and yi is an integer label/class \n",
    "    of xi. Same concept applies to VAL_MNIST[i] & TEST_MNIST[i].\n",
    "'''\n",
    "\n",
    "# Declare necessary constants\n",
    "USE_GPU = True\n",
    "DTYPE = torch.float32\n",
    "PATH = \"./dataset\"\n",
    "\n",
    "if USE_GPU and torch.cuda.is_available():\n",
    "    DEVICE = torch.device('cuda')\n",
    "    kwargs = {'num_workers': 1, 'pin_memory': True}\n",
    "else:\n",
    "    DEVICE = torch.device('cpu')\n",
    "    kwargs = {}\n",
    "    \n",
    "transform = T.Compose(\n",
    "    [\n",
    "        T.ToTensor(),\n",
    "        T.Resize(28)\n",
    "    ]\n",
    ")\n",
    "\n",
    "TRAIN_MNIST = datasets.MNIST(\n",
    "    root=PATH,\n",
    "    train=True,\n",
    "    download=True,\n",
    "    transform=transform\n",
    ")\n",
    "\n",
    "VAL_MNIST = datasets.MNIST(\n",
    "    root=PATH,\n",
    "    train=True,\n",
    "    download=True,\n",
    "    transform=transform\n",
    ")\n",
    "\n",
    "TEST_MNIST = datasets.MNIST(\n",
    "    root=PATH,\n",
    "    train=False,\n",
    "    download=True,\n",
    "    transform=transform\n",
    ")\n",
    "\n",
    "# Prepare dataloaders\n",
    "NUM_TRAIN = 50000\n",
    "\n",
    "loader_TRAIN = DataLoader(TRAIN_MNIST, batch_size=64,\n",
    "                          sampler=sampler.SubsetRandomSampler(range(NUM_TRAIN)),\n",
    "                          **kwargs)\n",
    "loader_VAL = DataLoader(VAL_MNIST, batch_size=64,\n",
    "                        sampler=sampler.SubsetRandomSampler(range(NUM_TRAIN, len(TRAIN_MNIST))),\n",
    "                        **kwargs)\n",
    "loader_TEST = DataLoader(TEST_MNIST, batch_size=64,\n",
    "                         **kwargs)"
   ]
  },
  {
   "cell_type": "code",
   "execution_count": null,
   "id": "12988613-4333-424e-8c84-f68bb2185876",
   "metadata": {},
   "outputs": [],
   "source": [
    "visualize_dataset(TRAIN_MNIST, type(TRAIN_MNIST))"
   ]
  },
  {
   "cell_type": "code",
   "execution_count": null,
   "id": "0683e9f1-c1c0-44e4-a2e1-914773567b78",
   "metadata": {},
   "outputs": [],
   "source": []
  }
 ],
 "metadata": {
  "kernelspec": {
   "display_name": "Python 3",
   "language": "python",
   "name": "python3"
  },
  "language_info": {
   "codemirror_mode": {
    "name": "ipython",
    "version": 3
   },
   "file_extension": ".py",
   "mimetype": "text/x-python",
   "name": "python",
   "nbconvert_exporter": "python",
   "pygments_lexer": "ipython3",
   "version": "3.9.5"
  }
 },
 "nbformat": 4,
 "nbformat_minor": 5
}
