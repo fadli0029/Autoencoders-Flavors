{
 "cells": [
  {
   "cell_type": "markdown",
   "id": "ed366cdb-9fc3-48c6-8ddd-cbf03d6a2bb1",
   "metadata": {},
   "source": [
    "# __Vanilla Autoencoder with PyTorch__"
   ]
  },
  {
   "cell_type": "code",
   "execution_count": 1,
   "id": "ecfb121e-0b96-4833-99a8-fdbca40ae089",
   "metadata": {},
   "outputs": [],
   "source": [
    "# For auto saving and applying changes to modified files.\n",
    "%load_ext autoreload\n",
    "%autoreload 2"
   ]
  },
  {
   "cell_type": "code",
   "execution_count": 2,
   "id": "2aa990f5-c77b-4144-8b5d-591899c611ee",
   "metadata": {},
   "outputs": [],
   "source": [
    "# Prepare Packages\n",
    "import torch\n",
    "import numpy as np\n",
    "import torch.nn as nn\n",
    "import torch.optim as optim\n",
    "import matplotlib.pyplot as plt\n",
    "from torchvision import datasets\n",
    "from torch.utils.data import sampler\n",
    "from torch.utils.data import DataLoader\n",
    "import torch.nn.functional as F\n",
    "import torchvision.transforms as T\n",
    "\n",
    "# Comment these if you're using ucsd datahub, otherwise uncomment.\n",
    "# from utilities.utils import *\n",
    "\n",
    "# Comment these if you're not using ucsd datahub, otherwise uncomment.\n",
    "import sys\n",
    "sys.path.append('..')\n",
    "import utilities.utils as utils\n",
    "import utilities.AE_utils as AE"
   ]
  },
  {
   "cell_type": "code",
   "execution_count": 3,
   "id": "e3296f67-19fd-433b-babb-90ce862feaf7",
   "metadata": {},
   "outputs": [
    {
     "name": "stderr",
     "output_type": "stream",
     "text": [
      "/opt/conda/lib/python3.9/site-packages/torchvision/datasets/mnist.py:498: UserWarning: The given NumPy array is not writeable, and PyTorch does not support non-writeable tensors. This means you can write to the underlying (supposedly non-writeable) NumPy array using the tensor. You may want to copy the array to protect its data or make it writeable before converting it to a tensor. This type of warning will be suppressed for the rest of this program. (Triggered internally at  /pytorch/torch/csrc/utils/tensor_numpy.cpp:180.)\n",
      "  return torch.from_numpy(parsed.astype(m[2], copy=False)).view(*s)\n"
     ]
    }
   ],
   "source": [
    "# Prepare dataset\n",
    "'''\n",
    "    TRAIN_MNIST & TEST_MNIST are objects of type (or instances of) \n",
    "    `torchvision.datasets.MNIST`.\n",
    "    \n",
    "    Running `print(TRAIN_MNIST)` will print out all the information\n",
    "    about the dataset: Number of datapoints, root location, etc.\n",
    "    \n",
    "    TRAIN_MNIST[i] is a tuple (xi, yi) where i is the ith\n",
    "    datapoint, xi is a tensor, and yi is an integer label/class \n",
    "    of xi. Same concept applies to VAL_MNIST[i] & TEST_MNIST[i].\n",
    "'''\n",
    "\n",
    "# Declare necessary constants\n",
    "USE_GPU = True\n",
    "DTYPE = torch.float32\n",
    "PATH = \"../dataset\"\n",
    "    \n",
    "transform = T.Compose(\n",
    "    [\n",
    "        T.Resize((28,28)),\n",
    "        T.ToTensor()\n",
    "    ]\n",
    ")\n",
    "\n",
    "TRAIN_MNIST = datasets.MNIST(\n",
    "    root=PATH,\n",
    "    train=True,\n",
    "    download=True,\n",
    "    transform=transform\n",
    ")\n",
    "\n",
    "VAL_MNIST = datasets.MNIST(\n",
    "    root=PATH,\n",
    "    train=True,\n",
    "    download=True,\n",
    "    transform=transform\n",
    ")\n",
    "\n",
    "TEST_MNIST = datasets.MNIST(\n",
    "    root=PATH,\n",
    "    train=False,\n",
    "    download=True,\n",
    "    transform=transform\n",
    ")\n",
    "\n",
    "num_workers, pin_memory = 1, False # Hardcoded, obtained after running get_optimal_num_workers\n",
    "if num_workers == None:\n",
    "    num_workers = utils.get_optimal_num_workers(TRAIN_MNIST, VERBOSE=False)\n",
    "    pin_memory = True\n",
    "\n",
    "# Specify if use gpu and multiprocessors for training.\n",
    "if USE_GPU and torch.cuda.is_available():\n",
    "    DEVICE = torch.device('cuda')\n",
    "    kwargs = {'num_workers': num_workers, 'pin_memory': pin_memory}\n",
    "else:\n",
    "    DEVICE = torch.device('cpu')\n",
    "    kwargs = {}\n",
    "    \n",
    "# Prepare dataloaders\n",
    "NUM_TRAIN = 50000\n",
    "\n",
    "loader_TRAIN = DataLoader(TRAIN_MNIST, batch_size=64,\n",
    "                          sampler=sampler.SubsetRandomSampler(range(NUM_TRAIN)),\n",
    "                          **kwargs)\n",
    "loader_VAL = DataLoader(VAL_MNIST, batch_size=64,\n",
    "                        sampler=sampler.SubsetRandomSampler(range(NUM_TRAIN, len(TRAIN_MNIST))),\n",
    "                        **kwargs)\n",
    "loader_TEST = DataLoader(TEST_MNIST, batch_size=64,\n",
    "                         **kwargs)"
   ]
  },
  {
   "cell_type": "code",
   "execution_count": 4,
   "id": "12988613-4333-424e-8c84-f68bb2185876",
   "metadata": {},
   "outputs": [
    {
     "data": {
      "image/png": "[encoded data removed]",
      "text/plain": [
       "<Figure size 720x720 with 25 Axes>"
      ]
     },
     "metadata": {
      "needs_background": "light"
     },
     "output_type": "display_data"
    }
   ],
   "source": [
    "utils.visualize_dataset(TRAIN_MNIST, type(TRAIN_MNIST))"
   ]
  },
  {
   "cell_type": "code",
   "execution_count": 5,
   "id": "c543b568",
   "metadata": {},
   "outputs": [],
   "source": [
    "C, W, H = 1, 28, 28\n",
    "NUM_CLASSES = 10\n",
    "LEARNING_RATE = 1e-2\n",
    "MOMENTUM = 0.9\n",
    "LOSS_FN = F.mse_loss\n",
    "PRINT_EVERY = 1000\n",
    "EPOCHS = 5"
   ]
  },
  {
   "cell_type": "code",
   "execution_count": 6,
   "id": "95da449c",
   "metadata": {},
   "outputs": [],
   "source": [
    "class Vanilla_Autoencoder(nn.Module):\n",
    "    def __init__(self, input_size, hidden=10):\n",
    "        super(Vanilla_Autoencoder, self).__init__()\n",
    "        self.encoder = nn.Sequential(\n",
    "            nn.Linear(input_size,512),\n",
    "            nn.ReLU(),\n",
    "            nn.Linear(512, 128),\n",
    "            nn.ReLU(),\n",
    "            nn.Linear(128, hidden)\n",
    "        )\n",
    "        \n",
    "        self.decoder = nn.Sequential(\n",
    "            nn.Linear(hidden, 128),\n",
    "            nn.ReLU(),\n",
    "            nn.Linear(128, 512),\n",
    "            nn.ReLU(),\n",
    "            nn.Linear(512, input_size)\n",
    "        )\n",
    "    \n",
    "    def forward(self, x):\n",
    "        return self.decoder(self.encoder(x))"
   ]
  },
  {
   "cell_type": "code",
   "execution_count": 9,
   "id": "3a9bab52",
   "metadata": {},
   "outputs": [],
   "source": [
    "Vanilla_AE = Vanilla_Autoencoder(C*W*H).to(DEVICE)"
   ]
  },
  {
   "cell_type": "code",
   "execution_count": null,
   "id": "4ed64d55",
   "metadata": {},
   "outputs": [
    {
     "name": "stdout",
     "output_type": "stream",
     "text": [
      "Training for 5 epochs\n",
      "Checking accuracy on validation set\n"
     ]
    }
   ],
   "source": [
    "optimizer = optim.SGD(Vanilla_AE.parameters(), lr=LEARNING_RATE,\n",
    "                      momentum=MOMENTUM, nesterov=True)\n",
    "AE.train(Vanilla_AE, optimizer, loader_TRAIN, loader_VAL, \n",
    "         loss_fn=LOSS_FN, flatten_data=True, \n",
    "         print_every=PRINT_EVERY,\n",
    "         device=DEVICE, epochs=EPOCHS)"
   ]
  },
  {
   "cell_type": "code",
   "execution_count": null,
   "id": "8f545c9e",
   "metadata": {},
   "outputs": [],
   "source": []
  }
 ],
 "metadata": {
  "kernelspec": {
   "display_name": "Python 3 (ipykernel)",
   "language": "python",
   "name": "python3"
  },
  "language_info": {
   "codemirror_mode": {
    "name": "ipython",
    "version": 3
   },
   "file_extension": ".py",
   "mimetype": "text/x-python",
   "name": "python",
   "nbconvert_exporter": "python",
   "pygments_lexer": "ipython3",
   "version": "3.9.5"
  }
 },
 "nbformat": 4,
 "nbformat_minor": 5
}
